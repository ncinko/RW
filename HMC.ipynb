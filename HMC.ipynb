{
 "cells": [
  {
   "cell_type": "code",
   "execution_count": 13,
   "metadata": {
    "collapsed": true
   },
   "outputs": [],
   "source": [
    "import numpy as np\n",
    "import matplotlib.pyplot as plt"
   ]
  },
  {
   "cell_type": "code",
   "execution_count": 5,
   "metadata": {
    "collapsed": true
   },
   "outputs": [],
   "source": [
    "def U(q):\n",
    "    return (q - 3.0)**2\n",
    "\n",
    "def grad_U(q):\n",
    "    return 2*(q - 3.0)"
   ]
  },
  {
   "cell_type": "code",
   "execution_count": 48,
   "metadata": {
    "collapsed": true
   },
   "outputs": [],
   "source": [
    "def HMC(epsilon, L, current_q):\n",
    "    q = current_q\n",
    "    p = 0.1*np.random.normal(0.0)\n",
    "    current_p = p\n",
    "    \n",
    "    # Make a half step for momentum\n",
    "    \n",
    "    p += -epsilon*grad_U(q)/2\n",
    "    \n",
    "    # Alternate full steps for position and momentum\n",
    "    \n",
    "    for i in range(L):\n",
    "        \n",
    "        # Make a full step for the position\n",
    "        \n",
    "        q += epsilon*p\n",
    "        \n",
    "        # Make a full step for momentum, except at end of trajectory\n",
    "        \n",
    "        if i != L-1:\n",
    "            \n",
    "            p += -epsilon*grad_U(q)\n",
    "            \n",
    "    # Make a half step for momentum at the end\n",
    "    \n",
    "    p += -epsilon*grad_U(q)/2\n",
    "    \n",
    "    current_U = U(current_q)\n",
    "    current_K = current_p**2 / 2\n",
    "    proposed_U = U(q)\n",
    "    proposed_K = current_p**2 / 2\n",
    "    \n",
    "    # Accept or reject the state at end of trajectory, returning either\n",
    "    # the position at the end of the trajectory or the initial position\n",
    "    if (np.random.uniform() < np.exp(current_U-proposed_U+current_K-proposed_K)):\n",
    "        \n",
    "        return q #accept\n",
    "    \n",
    "    else:\n",
    "        return current_q # reject\n",
    "\n"
   ]
  },
  {
   "cell_type": "code",
   "execution_count": 49,
   "metadata": {},
   "outputs": [
    {
     "name": "stdout",
     "output_type": "stream",
     "text": [
      "1.3270191986272228\n"
     ]
    }
   ],
   "source": [
    "q = np.random.normal(3.0)\n",
    "sampled_values = []\n",
    "energies = []\n",
    "\n",
    "print(q)"
   ]
  },
  {
   "cell_type": "code",
   "execution_count": 50,
   "metadata": {},
   "outputs": [],
   "source": [
    "for i in range(10000):\n",
    "    q = HMC(1e-2, 25, q)\n",
    "    energies.append(U(q))\n",
    "    sampled_values.append(q)"
   ]
  },
  {
   "cell_type": "code",
   "execution_count": 51,
   "metadata": {},
   "outputs": [
    {
     "data": {
      "image/png": "[encoded data removed]",
      "text/plain": [
       "<matplotlib.figure.Figure at 0x1f119458f98>"
      ]
     },
     "metadata": {},
     "output_type": "display_data"
    }
   ],
   "source": [
    "plt.hist(sampled_values, bins = 50)\n",
    "plt.show()"
   ]
  },
  {
   "cell_type": "code",
   "execution_count": 61,
   "metadata": {},
   "outputs": [
    {
     "data": {
      "image/png": "[encoded data removed]",
      "text/plain": [
       "<matplotlib.figure.Figure at 0x1f11a897240>"
      ]
     },
     "metadata": {},
     "output_type": "display_data"
    }
   ],
   "source": [
    "#plt.hist(energies,range = [-0.1,0.1], bins = 50)\n",
    "plt.plot(energies[:100])\n",
    "plt.show()"
   ]
  },
  {
   "cell_type": "code",
   "execution_count": null,
   "metadata": {
    "collapsed": true
   },
   "outputs": [],
   "source": []
  }
 ],
 "metadata": {
  "kernelspec": {
   "display_name": "Python 3",
   "language": "python",
   "name": "python3"
  },
  "language_info": {
   "codemirror_mode": {
    "name": "ipython",
    "version": 3
   },
   "file_extension": ".py",
   "mimetype": "text/x-python",
   "name": "python",
   "nbconvert_exporter": "python",
   "pygments_lexer": "ipython3",
   "version": "3.6.3"
  }
 },
 "nbformat": 4,
 "nbformat_minor": 2
}
