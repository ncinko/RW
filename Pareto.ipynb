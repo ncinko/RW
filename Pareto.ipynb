{
 "cells": [
  {
   "cell_type": "code",
   "execution_count": 8,
   "metadata": {
    "collapsed": true
   },
   "outputs": [],
   "source": [
    "import numpy as np\n",
    "import matplotlib.pyplot as plt\n",
    "import random\n",
    "from scipy.optimize import curve_fit"
   ]
  },
  {
   "cell_type": "code",
   "execution_count": 2,
   "metadata": {
    "collapsed": true
   },
   "outputs": [],
   "source": [
    "#\"To those who have everything, more will be given. From those who have nothing, everything will be taken.”"
   ]
  },
  {
   "cell_type": "code",
   "execution_count": 201,
   "metadata": {
    "collapsed": true
   },
   "outputs": [],
   "source": [
    "def pareto(x, a = 1.16, m = 1):\n",
    "    return a*np.power(m, a) / np.power(x, a+1)"
   ]
  },
  {
   "cell_type": "code",
   "execution_count": 206,
   "metadata": {},
   "outputs": [
    {
     "name": "stdout",
     "output_type": "stream",
     "text": [
      "1.72768102083\n"
     ]
    }
   ],
   "source": [
    "x = range(1, 20)\n",
    "\n",
    "total = 0\n",
    "for value in x:\n",
    "    total += pareto(value)\n",
    "print(total)"
   ]
  },
  {
   "cell_type": "code",
   "execution_count": 155,
   "metadata": {
    "collapsed": true
   },
   "outputs": [],
   "source": [
    "supply = 1000\n",
    "pop_size = 5000"
   ]
  },
  {
   "cell_type": "code",
   "execution_count": 119,
   "metadata": {},
   "outputs": [
    {
     "name": "stdout",
     "output_type": "stream",
     "text": [
      "[ 1.  1.  1. ...,  1.  1.  1.]\n"
     ]
    }
   ],
   "source": [
    "population = np.ones(pop_size)\n",
    "print(population)"
   ]
  },
  {
   "cell_type": "code",
   "execution_count": 207,
   "metadata": {},
   "outputs": [
    {
     "name": "stdout",
     "output_type": "stream",
     "text": [
      "[ 0.00649948  1.45074535  0.01229968 ...,  0.01778468  0.78316732\n",
      "  0.06506861]\n"
     ]
    }
   ],
   "source": [
    "for i in range(pop_size):\n",
    "    population[i] *= random.random()\n",
    "    \n",
    "print(population)\n",
    "\n",
    "for j in range(100):       \n",
    "    for i in range(pop_size):\n",
    "        if random.random() < 0.05*population[i]:\n",
    "            population[i] += random.random()"
   ]
  },
  {
   "cell_type": "code",
   "execution_count": 208,
   "metadata": {},
   "outputs": [
    {
     "data": {
      "image/png": "[encoded data removed]",
      "text/plain": [
       "<matplotlib.figure.Figure at 0x8eb5c88>"
      ]
     },
     "metadata": {},
     "output_type": "display_data"
    },
    {
     "name": "stdout",
     "output_type": "stream",
     "text": [
      "20805.8034085\n",
      "4359.26498391\n",
      "16446.5384246\n",
      "13426.1200934\n"
     ]
    }
   ],
   "source": [
    "plt.scatter(range(pop_size), np.sort(population)[::-1])\n",
    "plt.show()\n",
    "sort = np.sort(population)[::-1]\n",
    "print(sum(sort))\n",
    "print(sum(sort[500:5000]))\n",
    "print(sum(sort[0:500]))\n",
    "print(sum(sort[50:500]))"
   ]
  },
  {
   "cell_type": "code",
   "execution_count": 138,
   "metadata": {},
   "outputs": [
    {
     "data": {
      "image/png": "[encoded data removed]",
      "text/plain": [
       "<matplotlib.figure.Figure at 0x8d2e390>"
      ]
     },
     "metadata": {},
     "output_type": "display_data"
    }
   ],
   "source": [
    "bins = range(1,10)\n",
    "hist = plt.hist(population, bins)\n",
    "plt.plot(bins, pareto(bins, a = popt[0], s = popt[1]))\n",
    "plt.show()\n"
   ]
  },
  {
   "cell_type": "code",
   "execution_count": 126,
   "metadata": {},
   "outputs": [
    {
     "name": "stdout",
     "output_type": "stream",
     "text": [
      "[ 255.  140.  102.   89.   59.   47.   39.   29.] [1 2 3 4 5 6 7 8]\n"
     ]
    }
   ],
   "source": [
    "ydata = hist[0]\n",
    "xdata = hist[1]\n",
    "print(ydata, xdata[:8])"
   ]
  },
  {
   "cell_type": "code",
   "execution_count": 142,
   "metadata": {},
   "outputs": [
    {
     "name": "stderr",
     "output_type": "stream",
     "text": [
      "C:\\Users\\Nick\\Anaconda3\\lib\\site-packages\\ipykernel_launcher.py:2: RuntimeWarning: invalid value encountered in power\n",
      "  \n"
     ]
    }
   ],
   "source": [
    "popt, pcov = curve_fit(pareto, xdata[:8], ydata, maxfev = 10000)"
   ]
  },
  {
   "cell_type": "code",
   "execution_count": 143,
   "metadata": {},
   "outputs": [
    {
     "name": "stdout",
     "output_type": "stream",
     "text": [
      "[  5.16828801e-06   2.08353432e+04   5.19446556e+07]\n"
     ]
    }
   ],
   "source": [
    "print(popt)"
   ]
  },
  {
   "cell_type": "code",
   "execution_count": 52,
   "metadata": {},
   "outputs": [
    {
     "name": "stdout",
     "output_type": "stream",
     "text": [
      "[[  3.39301977e-02   3.99946717e+08  -2.32752858e+08]\n",
      " [  3.99946137e+08   2.46178734e+20  -1.43265403e+20]\n",
      " [ -2.32752520e+08  -1.43265403e+20   8.33742842e+19]]\n"
     ]
    }
   ],
   "source": [
    "print(pcov)"
   ]
  },
  {
   "cell_type": "code",
   "execution_count": null,
   "metadata": {
    "collapsed": true
   },
   "outputs": [],
   "source": []
  }
 ],
 "metadata": {
  "kernelspec": {
   "display_name": "Python 3",
   "language": "python",
   "name": "python3"
  },
  "language_info": {
   "codemirror_mode": {
    "name": "ipython",
    "version": 3
   },
   "file_extension": ".py",
   "mimetype": "text/x-python",
   "name": "python",
   "nbconvert_exporter": "python",
   "pygments_lexer": "ipython3",
   "version": "3.6.3"
  }
 },
 "nbformat": 4,
 "nbformat_minor": 2
}
